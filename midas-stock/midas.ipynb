{
 "cells": [
  {
   "source": [
    "import warnings\n",
    "import numpy as np\n",
    "import pandas as pd\n",
    "import pyfolio as pf\n",
    "import empyrical\n",
    "\n",
    "pd.set_option('display.max_columns', 100)\n",
    "pd.set_option('display.width', 10000)\n",
    "warnings.filterwarnings('ignore')\n",
    "\n",
    "stock_id = 'CPALL'\n",
    "df_set = pd.read_csv('data/SET Index Historical Data.csv', index_col=0, parse_dates=True)\n",
    "df_stock_price = pd.read_csv('data/yahoo/{}.csv'.format(stock_id), index_col=0, parse_dates=True)\n",
    "df_stock_finsheet = pd.read_csv('data/jitta/{}.csv'.format(stock_id), index_col=0, parse_dates=True)\n",
    "\n",
    "df_set.index = df_set.index.tz_localize('UTC')\n",
    "df_stock_price.index = df_stock_price.index.tz_localize('UTC')"
   ],
   "cell_type": "code",
   "outputs": [
    {
     "output_type": "error",
     "evalue": "Error: Jupyter cannot be started. Error attempting to locate jupyter: Error: Module 'notebook' not installed."
    }
   ],
   "metadata": {},
   "execution_count": null
  },
  {
   "source": [
    "stock_rets = df_stock_price['Return'].loc['2010-01-01':'2019-12-31'].rename(stock_id)\n",
    "index_rets = df_set['Close'].pct_change().dropna().loc[stock_rets.index].rename('SET')\n",
    "empyrical.periods.APPROX_BDAYS_PER_YEAR = stock_rets.count()/10\n",
    "\n",
    "stock_stats = pf.timeseries.perf_stats(returns=stock_rets, factor_returns=index_rets)\n",
    "stock_stats\n",
    "pf.create_returns_tear_sheet(returns=stock_rets, benchmark_rets=index_rets, live_start_date=None)"
   ],
   "cell_type": "code",
   "outputs": [
    {
     "output_type": "error",
     "evalue": "Error: Jupyter cannot be started. Error attempting to locate jupyter: Error: Module 'notebook' not installed."
    }
   ],
   "metadata": {},
   "execution_count": null
  },
  {
   "source": [
    "(np.prod(np.array(stock_rets.values.tolist())+1))**0.1-1"
   ],
   "cell_type": "code",
   "outputs": [
    {
     "output_type": "error",
     "evalue": "Error: Jupyter cannot be started. Error attempting to locate jupyter: Error: Module 'notebook' not installed."
    }
   ],
   "metadata": {},
   "execution_count": null
  },
  {
   "source": [
    "(np.prod(np.array(stock_rets.values.tolist())+1))-1"
   ],
   "cell_type": "code",
   "outputs": [
    {
     "output_type": "error",
     "evalue": "Error: Jupyter cannot be started. Error attempting to locate jupyter: Error: Module 'notebook' not installed."
    }
   ],
   "metadata": {},
   "execution_count": null
  },
  {
   "source": [
    "np.array(stock_rets.values.tolist()).var()"
   ],
   "cell_type": "code",
   "outputs": [
    {
     "output_type": "error",
     "evalue": "Error: Jupyter cannot be started. Error attempting to locate jupyter: Error: Module 'notebook' not installed."
    }
   ],
   "metadata": {},
   "execution_count": null
  }
 ],
 "metadata": {
  "kernelspec": {
   "display_name": "Python 3",
   "language": "python",
   "name": "python3"
  },
  "language_info": {
   "codemirror_mode": {
    "name": "ipython",
    "version": 3
   },
   "file_extension": ".py",
   "mimetype": "text/x-python",
   "name": "python",
   "nbconvert_exporter": "python",
   "pygments_lexer": "ipython3",
   "version": "3.8.1"
  }
 },
 "nbformat": 4,
 "nbformat_minor": 4
}