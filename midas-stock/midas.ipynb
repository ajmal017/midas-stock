{
 "cells": [
  {
   "cell_type": "code",
   "execution_count": 2,
   "metadata": {},
   "outputs": [
    {
     "name": "stderr",
     "output_type": "stream",
     "text": "d:\\VSC\\midas-stock\\.venv\\lib\\site-packages\\pyfolio\\pos.py:26: UserWarning: Module \"zipline.assets\" not found; mutltipliers will not be applied to position notionals.\n  warnings.warn(\n"
    }
   ],
   "source": [
    "import warnings\n",
    "import numpy as np\n",
    "import pandas as pd\n",
    "import pyfolio as pf\n",
    "import empyrical\n",
    "\n",
    "pd.set_option('display.max_columns', 100)\n",
    "pd.set_option('display.width', 10000)\n",
    "warnings.filterwarnings('ignore')\n",
    "\n",
    "stock_id = 'KTB'\n",
    "df_set = pd.read_csv('data/SET TRI.csv', index_col=0, parse_dates=True)\n",
    "df_stock_price = pd.read_csv('data/yahoo/{}.csv'.format(stock_id), index_col=0, parse_dates=True)\n",
    "df_stock_finsheet = pd.read_csv('data/jitta/{}.csv'.format(stock_id), index_col=0, parse_dates=True)\n",
    "\n",
    "df_set.index = df_set.index.tz_localize('UTC')\n",
    "df_stock_price.index = df_stock_price.index.tz_localize('UTC')"
   ]
  },
  {
   "cell_type": "code",
   "execution_count": 3,
   "metadata": {},
   "outputs": [
    {
     "data": {
      "text/plain": "Annual return         -0.117847\nCumulative returns    -0.113006\nAnnual volatility      0.152076\nSharpe ratio          -0.748457\nCalmar ratio          -0.586293\nStability              0.590390\nMax drawdown          -0.201004\nOmega ratio            0.877927\nSortino ratio         -1.006569\nSkew                  -0.181606\nKurtosis               1.687719\nTail ratio             1.020400\nDaily value at risk   -0.019611\nAlpha                 -0.138515\nBeta                   0.675612\ndtype: float64"
     },
     "execution_count": 3,
     "metadata": {},
     "output_type": "execute_result"
    }
   ],
   "source": [
    "start_date = '2019-01-01'\n",
    "end_date = '2019-12-31'\n",
    "stock_rets = df_stock_price['Return'].loc[start_date:end_date].rename(stock_id)\n",
    "index_rets = df_set['Close'].pct_change().dropna().loc[stock_rets.index].rename('SET')\n",
    "empyrical.periods.APPROX_BDAYS_PER_YEAR = stock_rets.count()/10\n",
    "\n",
    "stock_stats = pf.timeseries.perf_stats(returns=stock_rets, factor_returns=index_rets)\n",
    "stock_stats\n",
    "# pf.create_returns_tear_sheet(returns=stock_rets, benchmark_rets=index_rets, live_start_date=None)"
   ]
  },
  {
   "cell_type": "code",
   "execution_count": null,
   "metadata": {},
   "outputs": [],
   "source": []
  }
 ],
 "metadata": {
  "kernelspec": {
   "display_name": "Python 3",
   "language": "python",
   "name": "python3"
  },
  "language_info": {
   "codemirror_mode": {
    "name": "ipython",
    "version": 3
   },
   "file_extension": ".py",
   "mimetype": "text/x-python",
   "name": "python",
   "nbconvert_exporter": "python",
   "pygments_lexer": "ipython3",
   "version": "3.8.1-final"
  }
 },
 "nbformat": 4,
 "nbformat_minor": 4
}