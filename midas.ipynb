{
 "cells": [
  {
   "cell_type": "code",
   "execution_count": 1,
   "metadata": {},
   "outputs": [],
   "source": [
    "import warnings\n",
    "import pandas as pd\n",
    "import pyfolio as pf\n",
    "\n",
    "pd.set_option('display.max_columns', 100)\n",
    "pd.set_option('display.width', 10000)\n",
    "warnings.filterwarnings('ignore')\n",
    "\n",
    "stock_id = 'CPALL'\n",
    "df_set = pd.read_csv('data/SET Index Historical Data.csv', index_col=0, parse_dates=True)\n",
    "df_stock_price = pd.read_csv('data/yahoo/{}.csv'.format(stock_id), index_col=0, parse_dates=True)\n",
    "df_stock_finsheet = pd.read_csv('data/jitta/{}.csv'.format(stock_id), index_col=0, parse_dates=True)\n",
    "\n",
    "df_set.index = df_set.index.tz_localize('UTC')\n",
    "df_stock_price.index = df_stock_price.index.tz_localize('UTC')"
   ]
  },
  {
   "cell_type": "code",
   "execution_count": 7,
   "metadata": {
    "scrolled": false
   },
   "outputs": [
    {
     "data": {
      "text/plain": [
       "2"
      ]
     },
     "execution_count": 1,
     "metadata": {},
     "output_type": "execute_result"
    }
   ],
   "source": [
    "1+1"
   ]
  },
  {
   "cell_type": "code",
   "execution_count": null,
   "metadata": {},
   "outputs": [],
   "source": []
  }
 ],
 "metadata": {
  "kernelspec": {
   "display_name": "Python 3",
   "language": "python",
   "name": "python3"
  },
  "language_info": {
   "codemirror_mode": {
    "name": "ipython",
    "version": 3
   },
   "file_extension": ".py",
   "mimetype": "text/x-python",
   "name": "python",
   "nbconvert_exporter": "python",
   "pygments_lexer": "ipython3",
   "version": "3.8.0"
  }
 },
 "nbformat": 4,
 "nbformat_minor": 4
}
